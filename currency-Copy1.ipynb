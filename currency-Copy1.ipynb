{
 "cells": [
  {
   "cell_type": "code",
   "execution_count": 1,
   "metadata": {},
   "outputs": [],
   "source": [
    "from selenium import webdriver\n",
    "from pandas import DataFrame\n",
    "from selenium.webdriver.common.keys import Keys\n",
    "import time\n",
    "import getpass\n",
    "import urllib.request\n",
    "import requests\n",
    "import numpy as np\n",
    "import pymysql\n",
    "\n",
    "import bs4\n",
    "import time"
   ]
  },
  {
   "cell_type": "code",
   "execution_count": 2,
   "metadata": {},
   "outputs": [],
   "source": [
    "from bs4 import BeautifulSoup\n",
    "from urllib.request import urlopen\n",
    "import re\n",
    "import pandas as pd\n",
    "import csv\n",
    "import matplotlib.pyplot as plt\n",
    "import matplotlib.font_manager as fm"
   ]
  },
  {
   "cell_type": "code",
   "execution_count": 3,
   "metadata": {},
   "outputs": [
    {
     "name": "stdout",
     "output_type": "stream",
     "text": [
      " 미국\n",
      "USDKRW\n"
     ]
    }
   ],
   "source": [
    "req = requests.get('https://finance.naver.com/marketindex/exchangeDetail.nhn?marketindexCd=FX_USDKRW')\n",
    "html = req.text\n",
    "soup = BeautifulSoup(html, 'html.parser')\n",
    "my_titles = soup.select(\n",
    "    '#container > div.h_company > h2'\n",
    "    )\n",
    "my_curr = soup.select(\n",
    "    '#container > div.h_company > div.description > span'\n",
    "    )\n",
    "\n",
    "# my_titles는 list 객체\n",
    "for title in my_titles:\n",
    "    country=title.text\n",
    "    print(country)\n",
    "   \n",
    "for curr in my_curr:\n",
    "    curr=curr.text\n",
    "    print(curr)\n",
    "    \n",
    "    "
   ]
  },
  {
   "cell_type": "code",
   "execution_count": 4,
   "metadata": {},
   "outputs": [],
   "source": [
    "chromedriver_dir = r'/Users/jungjiu/my-project/chromedriver'\n",
    "driver = webdriver.Chrome(chromedriver_dir)"
   ]
  },
  {
   "cell_type": "code",
   "execution_count": 5,
   "metadata": {
    "scrolled": false
   },
   "outputs": [
    {
     "name": "stdout",
     "output_type": "stream",
     "text": [
      "page 1\n",
      "page 2\n",
      "['2019.12.06', '2019.12.05', '2019.12.04', '2019.12.03', '2019.12.02', '2019.11.29', '2019.11.28', '2019.11.27', '2019.11.26', '2019.11.25', '2019.11.22', '2019.11.21', '2019.11.20', '2019.11.19', '2019.11.18', '2019.11.15', '2019.11.14', '2019.11.13', '2019.11.12', '2019.11.11']\n",
      "['1,189.50', '1,191.00', '1,193.00', '1,190.00', '1,185.00', '1,180.00', '1,179.00', '1,177.50', '1,177.50', '1,176.50', '1,178.00', '1,175.50', '1,170.50', '1,166.50', '1,165.50', '1,167.00', '1,170.50', '1,169.50', '1,163.50', '1,165.50']\n"
     ]
    }
   ],
   "source": [
    "base_url = 'https://finance.naver.com/marketindex/exchangeDailyQuote.nhn?marketindexCd=FX_USDKRW&page={}'\n",
    "cur_list=[] \n",
    "date_list=[]\n",
    "for n in range (0,2) :\n",
    "    print(\"page\",n+1)\n",
    "    url = base_url.format(n+1)\n",
    "    driver.get(url)\n",
    "    time.sleep(1)\n",
    "    date=driver.find_elements_by_tag_name('body > div > table > tbody >tr > td.date')\n",
    "    currency=driver.find_elements_by_tag_name('body > div > table > tbody >tr > td:nth-child(2)')\n",
    "    \n",
    "    for dates in date: \n",
    "        dates=dates.text\n",
    "#         print(dates)\n",
    "        date_list+=[dates]\n",
    "    for currencys in currency:        \n",
    "        \n",
    "        cur=currencys.text\n",
    "#         print(cur)\n",
    "        cur_list+=[cur]\n",
    "print(date_list)\n",
    "print(cur_list)\n",
    "        \n",
    "    \n",
    "#     my_dict = pd.DataFrame(cur_list)\n",
    "#     display(pd.DataFrame(my_dict))\n"
   ]
  },
  {
   "cell_type": "code",
   "execution_count": 6,
   "metadata": {},
   "outputs": [],
   "source": [
    "df=pd.DataFrame([date_list,cur_list],index= ['Date', curr]).T"
   ]
  },
  {
   "cell_type": "code",
   "execution_count": 14,
   "metadata": {},
   "outputs": [
    {
     "name": "stdout",
     "output_type": "stream",
     "text": [
      "          Date  USDKRW\n",
      "0   2019-12-06  1189.5\n",
      "1   2019-12-05  1191.0\n",
      "2   2019-12-04  1193.0\n",
      "3   2019-12-03  1190.0\n",
      "4   2019-12-02  1185.0\n",
      "5   2019-11-29  1180.0\n",
      "6   2019-11-28  1179.0\n",
      "7   2019-11-27  1177.5\n",
      "8   2019-11-26  1177.5\n",
      "9   2019-11-25  1176.5\n",
      "10  2019-11-22  1178.0\n",
      "11  2019-11-21  1175.5\n",
      "12  2019-11-20  1170.5\n",
      "13  2019-11-19  1166.5\n",
      "14  2019-11-18  1165.5\n",
      "15  2019-11-15  1167.0\n",
      "16  2019-11-14  1170.5\n",
      "17  2019-11-13  1169.5\n",
      "18  2019-11-12  1163.5\n",
      "19  2019-11-11  1165.5\n"
     ]
    }
   ],
   "source": [
    "from datetime import datetime\n",
    "\n",
    "df['USDKRW']=df['USDKRW'].replace('\\,','',regex=True).astype(float) \n",
    "df['Date']=pd.to_datetime(df['Date'],format='%Y.%m.%d').dt.strftime(\"%Y-%m-%d\");\n",
    "\n",
    "\n",
    "# df.to_csv(\"USDKRW.csv\")\n",
    "\n",
    "print(df)"
   ]
  },
  {
   "cell_type": "code",
   "execution_count": 17,
   "metadata": {},
   "outputs": [
    {
     "data": {
      "text/plain": [
       "Date       object\n",
       "USDKRW    float64\n",
       "dtype: object"
      ]
     },
     "execution_count": 17,
     "metadata": {},
     "output_type": "execute_result"
    }
   ],
   "source": [
    "import pandas as pd\n",
    "pd.to_datetime(df['Date'])\n",
    "df.dtypes"
   ]
  },
  {
   "cell_type": "code",
   "execution_count": 18,
   "metadata": {},
   "outputs": [
    {
     "data": {
      "text/plain": [
       "0    2019-12-06\n",
       "1    2019-12-05\n",
       "2    2019-12-04\n",
       "3    2019-12-03\n",
       "4    2019-12-02\n",
       "5    2019-11-29\n",
       "6    2019-11-28\n",
       "7    2019-11-27\n",
       "8    2019-11-26\n",
       "9    2019-11-25\n",
       "10   2019-11-22\n",
       "11   2019-11-21\n",
       "12   2019-11-20\n",
       "13   2019-11-19\n",
       "14   2019-11-18\n",
       "15   2019-11-15\n",
       "16   2019-11-14\n",
       "17   2019-11-13\n",
       "18   2019-11-12\n",
       "19   2019-11-11\n",
       "Name: Date, dtype: datetime64[ns]"
      ]
     },
     "execution_count": 18,
     "metadata": {},
     "output_type": "execute_result"
    }
   ],
   "source": [
    "pd.to_datetime(df['Date'])"
   ]
  },
  {
   "cell_type": "code",
   "execution_count": 19,
   "metadata": {},
   "outputs": [
    {
     "data": {
      "text/plain": [
       "Date       object\n",
       "USDKRW    float64\n",
       "dtype: object"
      ]
     },
     "execution_count": 19,
     "metadata": {},
     "output_type": "execute_result"
    }
   ],
   "source": [
    "df.dtypes"
   ]
  },
  {
   "cell_type": "code",
   "execution_count": null,
   "metadata": {},
   "outputs": [],
   "source": []
  },
  {
   "cell_type": "code",
   "execution_count": null,
   "metadata": {},
   "outputs": [],
   "source": []
  }
 ],
 "metadata": {
  "kernelspec": {
   "display_name": "Python 3",
   "language": "python",
   "name": "python3"
  },
  "language_info": {
   "codemirror_mode": {
    "name": "ipython",
    "version": 3
   },
   "file_extension": ".py",
   "mimetype": "text/x-python",
   "name": "python",
   "nbconvert_exporter": "python",
   "pygments_lexer": "ipython3",
   "version": "3.7.5"
  }
 },
 "nbformat": 4,
 "nbformat_minor": 2
}
