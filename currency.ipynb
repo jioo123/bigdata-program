{
 "cells": [
  {
   "cell_type": "code",
   "execution_count": 22,
   "metadata": {},
   "outputs": [],
   "source": [
    "from selenium import webdriver\n",
    "from pandas import DataFrame\n",
    "from selenium.webdriver.common.keys import Keys\n",
    "import time\n",
    "import getpass\n",
    "import urllib.request\n",
    "import requests\n",
    "\n",
    "import pymysql\n",
    "\n",
    "import bs4\n",
    "import time"
   ]
  },
  {
   "cell_type": "code",
   "execution_count": 23,
   "metadata": {},
   "outputs": [],
   "source": [
    "from bs4 import BeautifulSoup\n",
    "from urllib.request import urlopen\n",
    "import re\n",
    "import pandas as pd\n",
    "import csv\n",
    "import matplotlib.pyplot as plt\n",
    "import matplotlib.font_manager as fm"
   ]
  },
  {
   "cell_type": "code",
   "execution_count": 16,
   "metadata": {},
   "outputs": [],
   "source": [
    "chromedriver_dir = r'/Users/jungjiu/my-project/chromedriver'\n",
    "driver = webdriver.Chrome(chromedriver_dir)"
   ]
  },
  {
   "cell_type": "code",
   "execution_count": 4,
   "metadata": {},
   "outputs": [],
   "source": [
    "# html=driver.page_source\n",
    "# soup=BeautifulSoup(html,'html.parser')\n",
    "# notices=soup.select('div.p_inr > div.p_info>a>span')\n",
    "# for n in notices:\n",
    "#     print(n.text.strip())"
   ]
  },
  {
   "cell_type": "code",
   "execution_count": 5,
   "metadata": {},
   "outputs": [],
   "source": [
    "# #돌아감\n",
    "# title=driver.find_element_by_css_selector('#menu > ul > li.m5 > a > span')\n",
    "# print(title.text)\n"
   ]
  },
  {
   "cell_type": "code",
   "execution_count": 38,
   "metadata": {},
   "outputs": [
    {
     "name": "stdout",
     "output_type": "stream",
     "text": [
      "page 1\n",
      "2019.11.28\n",
      "2019.11.27\n",
      "2019.11.26\n",
      "2019.11.25\n",
      "2019.11.22\n",
      "2019.11.21\n",
      "2019.11.20\n",
      "2019.11.19\n",
      "2019.11.18\n",
      "2019.11.15\n",
      "1,179.00\n",
      "1,177.50\n",
      "1,177.50\n",
      "1,176.50\n",
      "1,178.00\n",
      "1,175.50\n",
      "1,170.50\n",
      "1,166.50\n",
      "1,165.50\n",
      "1,167.00\n",
      "page 2\n",
      "2019.11.14\n",
      "2019.11.13\n",
      "2019.11.12\n",
      "2019.11.11\n",
      "2019.11.08\n",
      "2019.11.07\n",
      "2019.11.06\n",
      "2019.11.05\n",
      "2019.11.04\n",
      "2019.11.01\n",
      "1,170.50\n",
      "1,169.50\n",
      "1,163.50\n",
      "1,165.50\n",
      "1,157.50\n",
      "1,156.00\n",
      "1,158.50\n",
      "1,156.00\n",
      "1,160.50\n",
      "1,167.00\n",
      "page 3\n",
      "2019.10.31\n",
      "2019.10.30\n",
      "2019.10.29\n",
      "2019.10.28\n",
      "2019.10.25\n",
      "2019.10.24\n",
      "2019.10.23\n",
      "2019.10.22\n",
      "2019.10.21\n",
      "2019.10.18\n",
      "1,168.50\n",
      "1,166.50\n",
      "1,168.00\n",
      "1,170.50\n",
      "1,174.50\n",
      "1,173.50\n",
      "1,173.00\n",
      "1,173.00\n",
      "1,172.00\n",
      "1,181.00\n",
      "['2019.10.31', '2019.10.30', '2019.10.29', '2019.10.28', '2019.10.25', '2019.10.24', '2019.10.23', '2019.10.22', '2019.10.21', '2019.10.18']\n",
      "['1,168.50', '1,166.50', '1,168.00', '1,170.50', '1,174.50', '1,173.50', '1,173.00', '1,173.00', '1,172.00', '1,181.00']\n"
     ]
    }
   ],
   "source": [
    "base_url = 'https://finance.naver.com/marketindex/exchangeDailyQuote.nhn?marketindexCd=FX_USDKRW&page={}'\n",
    " \n",
    "for n in range (0,3) :\n",
    "    print(\"page\",n+1)\n",
    "    url = base_url.format(n+1)\n",
    "    driver.get(url)\n",
    "    time.sleep(1)\n",
    "#   title=driver.find_element_by_css_selector('body > div > table > tbody')\n",
    "    date=driver.find_elements_by_tag_name('body > div > table > tbody >tr > td.date')\n",
    "    currency=driver.find_elements_by_tag_name('body > div > table > tbody >tr > td:nth-child(2)')\n",
    "    cur_list=[] \n",
    "    date_list=[]\n",
    "    for dates in date: \n",
    "        dates=dates.text\n",
    "        print(dates)\n",
    "        date_list+=[dates]\n",
    "    for currencys in currency:        \n",
    "        \n",
    "        cur=currencys.text\n",
    "        print(cur)\n",
    "        cur_list+=[cur]\n",
    "print(date_list)\n",
    "print(cur_list)\n",
    "        \n",
    "    \n",
    "#     my_dict = pd.DataFrame(cur_list)\n",
    "#     display(pd.DataFrame(my_dict))\n"
   ]
  },
  {
   "cell_type": "code",
   "execution_count": 12,
   "metadata": {},
   "outputs": [],
   "source": [
    "\n",
    "# from bs4 import BeautifulSoup\n",
    "# import urllib.request as req\n",
    "\n",
    "# # HTML 가져오기\n",
    "# url = \"http://finance.naver.com/marketindex/\"\n",
    "# res = req.urlopen(url)\n",
    "\n",
    "# # HTML 분석하기\n",
    "# soup = BeautifulSoup(res, \"html.parser\")\n",
    "\n",
    "# #원하는 데이터 추출하기\n",
    "# price = soup.select_one(\"div.head_info > span.value\").string\n",
    "# print(\"usd/krw = \",price)\n"
   ]
  },
  {
   "cell_type": "code",
   "execution_count": null,
   "metadata": {},
   "outputs": [],
   "source": []
  },
  {
   "cell_type": "code",
   "execution_count": null,
   "metadata": {},
   "outputs": [],
   "source": []
  },
  {
   "cell_type": "code",
   "execution_count": null,
   "metadata": {},
   "outputs": [],
   "source": []
  },
  {
   "cell_type": "code",
   "execution_count": null,
   "metadata": {},
   "outputs": [],
   "source": []
  },
  {
   "cell_type": "code",
   "execution_count": null,
   "metadata": {},
   "outputs": [],
   "source": []
  },
  {
   "cell_type": "code",
   "execution_count": null,
   "metadata": {},
   "outputs": [],
   "source": []
  }
 ],
 "metadata": {
  "kernelspec": {
   "display_name": "Python 3",
   "language": "python",
   "name": "python3"
  },
  "language_info": {
   "codemirror_mode": {
    "name": "ipython",
    "version": 3
   },
   "file_extension": ".py",
   "mimetype": "text/x-python",
   "name": "python",
   "nbconvert_exporter": "python",
   "pygments_lexer": "ipython3",
   "version": "3.7.5"
  }
 },
 "nbformat": 4,
 "nbformat_minor": 2
}
